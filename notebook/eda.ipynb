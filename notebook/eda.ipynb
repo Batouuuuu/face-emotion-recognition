{
 "cells": [
  {
   "cell_type": "markdown",
   "id": "a4b9f5c7",
   "metadata": {},
   "source": [
    "## General data exploration"
   ]
  },
  {
   "cell_type": "code",
   "execution_count": 44,
   "id": "9667e395",
   "metadata": {},
   "outputs": [
    {
     "name": "stdout",
     "output_type": "stream",
     "text": [
      "Dossier angry: 3995\n",
      "Dossier disgust: 436\n",
      "Dossier fear: 4097\n",
      "Dossier happy: 7215\n",
      "Dossier neutral: 4965\n",
      "Dossier sad: 4830\n",
      "Dossier surprise: 3171\n",
      "28709\n"
     ]
    }
   ],
   "source": [
    "import os\n",
    "\n",
    "train_path = \"../data/train\"\n",
    "folders = [f for f in os.listdir(train_path) if os.path.isdir(os.path.join(train_path, f))]\n",
    "\n",
    "all_files = []  \n",
    "\n",
    "for folder in folders:\n",
    "    folder_path = os.path.join(train_path, folder)\n",
    "    files = [f for f in os.listdir(folder_path) if os.path.isfile(os.path.join(folder_path, f))]\n",
    "    print(f\"Dossier {folder}: {len(files)}\")    \n",
    "\n",
    "    \n",
    "    for file in files:\n",
    "        all_files.append(os.path.join(folder_path, file))\n",
    "\n",
    "print(len(all_files))\n"
   ]
  },
  {
   "cell_type": "markdown",
   "id": "a96bd4a5",
   "metadata": {},
   "source": [
    "The classes are not equal so we will use data augmentation (same idea as SMOTE but for images) to radjust their number"
   ]
  },
  {
   "cell_type": "markdown",
   "id": "e956ee42",
   "metadata": {},
   "source": [
    "## Data Augmentation"
   ]
  },
  {
   "cell_type": "markdown",
   "id": "3552b73e",
   "metadata": {},
   "source": [
    "We have to use open cv manipulation to increase the number of image for the class \"disgust\" and \"surprise\""
   ]
  },
  {
   "cell_type": "markdown",
   "id": "bf6f392b",
   "metadata": {},
   "source": [
    "Rotation"
   ]
  },
  {
   "cell_type": "code",
   "execution_count": 45,
   "id": "79fd2685",
   "metadata": {},
   "outputs": [
    {
     "data": {
      "image/png": "[encoded data removed]",
      "text/plain": [
       "<Figure size 640x480 with 1 Axes>"
      ]
     },
     "metadata": {},
     "output_type": "display_data"
    }
   ],
   "source": [
    "from matplotlib import pyplot as plt\n",
    "import glob\n",
    "import cv2\n",
    "\n",
    "images_path = glob.glob(\"../data/train/disgust/*.jpg\")\n",
    "\n",
    "img = cv2.imread(images_path[1])\n",
    "height, width = img.shape[:2]\n",
    "center = (width // 2, height // 2)\n",
    "angle = 45\n",
    "scale = 1.0\n",
    "rotation_matrix = cv2.getRotationMatrix2D(center, angle, scale)\n",
    "rotated_image = cv2.warpAffine(img, rotation_matrix, (width, height))\n",
    "grey_image_rotated = cv2.cvtColor(rotated_image, cv2.COLOR_BGR2GRAY) ## grey scaling, we have to convert into just 2-D to avoid the 3 canals RGB\n",
    "\n",
    "plt.imshow(rotated_image)\n",
    "plt.show()"
   ]
  },
  {
   "cell_type": "markdown",
   "id": "5df2fde9",
   "metadata": {},
   "source": [
    "Translation"
   ]
  },
  {
   "cell_type": "code",
   "execution_count": 46,
   "id": "eed23f44",
   "metadata": {},
   "outputs": [
    {
     "data": {
      "image/png": "[encoded data removed]",
      "text/plain": [
       "<Figure size 640x480 with 1 Axes>"
      ]
     },
     "metadata": {},
     "output_type": "display_data"
    }
   ],
   "source": [
    "import numpy as np\n",
    "img = cv2.imread(images_path[1])\n",
    "tx, ty = 5, 5  \n",
    "\n",
    "# Create the translation matrix\n",
    "translation_matrix = np.float32([\n",
    "    [1, 0, tx],\n",
    "    [0, 1, ty]\n",
    "])\n",
    "\n",
    "height, width = img.shape[:2]\n",
    "\n",
    "translated_image = cv2.warpAffine(img, translation_matrix, (width, height))\n",
    "\n",
    "translated_image_rgb = cv2.cvtColor(translated_image, cv2.COLOR_BGR2RGB)\n",
    "\n",
    "\n",
    "plt.imshow(translated_image_rgb)\n",
    "plt.axis('off')\n",
    "plt.show()"
   ]
  },
  {
   "cell_type": "markdown",
   "id": "9b0c6d51",
   "metadata": {},
   "source": [
    "## Image Processing\n",
    "- Greyscaling\n",
    "- Resizing\n",
    "- Normalisation"
   ]
  },
  {
   "cell_type": "markdown",
   "id": "54d10758",
   "metadata": {},
   "source": [
    "Resizing : we have to make sure that every image is a 48*48px and there is no more 48x48, 3 canals"
   ]
  },
  {
   "cell_type": "markdown",
   "id": "49a754bc",
   "metadata": {},
   "source": [
    "Normalization "
   ]
  }
 ],
 "metadata": {
  "kernelspec": {
   "display_name": "Python (deep_learning)",
   "language": "python",
   "name": "deep_learning"
  },
  "language_info": {
   "codemirror_mode": {
    "name": "ipython",
    "version": 3
   },
   "file_extension": ".py",
   "mimetype": "text/x-python",
   "name": "python",
   "nbconvert_exporter": "python",
   "pygments_lexer": "ipython3",
   "version": "3.12.0"
  }
 },
 "nbformat": 4,
 "nbformat_minor": 5
}
